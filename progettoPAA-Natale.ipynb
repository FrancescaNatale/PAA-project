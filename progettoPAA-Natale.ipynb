{
 "cells": [
  {
   "cell_type": "markdown",
   "metadata": {},
   "source": [
    "## Progetto di PAA\n",
    "\n",
    "#### Francesca Natale - 6246173 - francesca.natale@stud.unifi.it\n",
    "\n",
    "## Generalized Fibonacci-Like Sequence and Some Identies\n"
   ]
  },
  {
   "cell_type": "markdown",
   "metadata": {},
   "source": [
    "In questo progetto sono state prese in esame alcune identità riguardo la sequenza di Fibonacci generalizzata, ed è stata eseguita la loro verifica.\n",
    "L'articolo utilizzato è il seguente: \n",
    "http://article.scirea.org/pdf/11003.pdf\n"
   ]
  },
  {
   "cell_type": "markdown",
   "metadata": {},
   "source": [
    "Come primo passo, sono stati importati i pacchetti necessari per il corretto funzionamento del codice:"
   ]
  },
  {
   "cell_type": "code",
   "execution_count": 1,
   "metadata": {
    "collapsed": false
   },
   "outputs": [],
   "source": [
    "import itertools\n",
    "import random\n",
    "import numpy as np\n",
    "import sympy\n",
    "from sympy import *\n",
    "from math import *\n",
    "from sympy.utilities.lambdify import lambdify, implemented_function\n",
    "from sympy.abc import n, k\n",
    "import sys\n",
    "import math\n",
    "\n",
    "\n"
   ]
  },
  {
   "cell_type": "code",
   "execution_count": 2,
   "metadata": {
    "collapsed": false
   },
   "outputs": [],
   "source": [
    "init_printing()"
   ]
  },
  {
   "cell_type": "markdown",
   "metadata": {},
   "source": [
    "I numeri di Fibonacci sono definiti dalla seguente ricorrenza:\n",
    "\n",
    "$F_n$ = $F_{n-1}$ + $F_{n-2}$ per $n\\geq 2$\n",
    "\n",
    "con condizioni iniziali: $F_0$ =0, $F_1$ = 1\n"
   ]
  },
  {
   "cell_type": "code",
   "execution_count": 3,
   "metadata": {
    "collapsed": false
   },
   "outputs": [],
   "source": [
    "def Fib(n):\n",
    "    \n",
    "    if n<0:\n",
    "        return pow(-1, -n+1)*Fib(-n)\n",
    "    if n == 0:\n",
    "        return 0\n",
    "    elif n == 1:\n",
    "        return 1\n",
    "    else:\n",
    "        \n",
    "        return Fib(n-1)+Fib(n-2)"
   ]
  },
  {
   "cell_type": "markdown",
   "metadata": {},
   "source": [
    "I primi 10 elementi della sequenza di Fibonacci sono i seguenti:"
   ]
  },
  {
   "cell_type": "code",
   "execution_count": 4,
   "metadata": {
    "collapsed": false
   },
   "outputs": [
    {
     "data": {
      "image/png": "[encoded data removed]",
      "text/latex": [
       "$$\\left [ \\left ( 0, \\quad 0\\right ), \\quad \\left ( 1, \\quad 1\\right ), \\quad \\left ( 2, \\quad 1\\right ), \\quad \\left ( 3, \\quad 2\\right ), \\quad \\left ( 4, \\quad 3\\right ), \\quad \\left ( 5, \\quad 5\\right ), \\quad \\left ( 6, \\quad 8\\right ), \\quad \\left ( 7, \\quad 13\\right ), \\quad \\left ( 8, \\quad 21\\right ), \\quad \\left ( 9, \\quad 34\\right )\\right ]$$"
      ],
      "text/plain": [
       "[(0, 0), (1, 1), (2, 1), (3, 2), (4, 3), (5, 5), (6, 8), (7, 13), (8, 21), (9,\n",
       " 34)]"
      ]
     },
     "execution_count": 4,
     "metadata": {},
     "output_type": "execute_result"
    }
   ],
   "source": [
    "F = implemented_function(Function('F'), Fib)\n",
    "lambda_Fib = lambdify(n, F(n))\n",
    "[(n, int(F(n).evalf())) for n in range(0, 10)]\n"
   ]
  },
  {
   "cell_type": "markdown",
   "metadata": {},
   "source": [
    "I numeri di Lucas sono invece caratterizzati dalla seguente relazione di ricorrenza:\n",
    "\n",
    "$L_n$ = $L_{n-1}$ + $L_{n-2}$ per $n\\geq 2$\n",
    "\n",
    "e hanno come condizioni iniziali: $L_0$ = 2, $L_1$ = 1"
   ]
  },
  {
   "cell_type": "code",
   "execution_count": 5,
   "metadata": {
    "collapsed": false
   },
   "outputs": [],
   "source": [
    "def Luc(n):\n",
    "    \n",
    "    if n<0:\n",
    "        return pow(-1, -n)*Luc(-n)\n",
    "    if n == 0:\n",
    "        return 2\n",
    "    elif n == 1:\n",
    "        return 1\n",
    "    else:\n",
    "        \n",
    "        return Luc(n-1)+Luc(n-2)"
   ]
  },
  {
   "cell_type": "markdown",
   "metadata": {},
   "source": [
    "I primi 10 numeri di Lucas sono i seguenti:"
   ]
  },
  {
   "cell_type": "code",
   "execution_count": 6,
   "metadata": {
    "collapsed": false
   },
   "outputs": [
    {
     "data": {
      "image/png": "[encoded data removed]",
      "text/latex": [
       "$$\\left [ \\left ( 0, \\quad 2\\right ), \\quad \\left ( 1, \\quad 1\\right ), \\quad \\left ( 2, \\quad 3\\right ), \\quad \\left ( 3, \\quad 4\\right ), \\quad \\left ( 4, \\quad 7\\right ), \\quad \\left ( 5, \\quad 11\\right ), \\quad \\left ( 6, \\quad 18\\right ), \\quad \\left ( 7, \\quad 29\\right ), \\quad \\left ( 8, \\quad 47\\right ), \\quad \\left ( 9, \\quad 76\\right )\\right ]$$"
      ],
      "text/plain": [
       "[(0, 2), (1, 1), (2, 3), (3, 4), (4, 7), (5, 11), (6, 18), (7, 29), (8, 47), (\n",
       "9, 76)]"
      ]
     },
     "execution_count": 6,
     "metadata": {},
     "output_type": "execute_result"
    }
   ],
   "source": [
    "L = implemented_function(Function('L'), Luc)\n",
    "lambda_Luc = lambdify(n, L(n))\n",
    "[(n, int(L(n).evalf())) for n in range(0, 10)]"
   ]
  },
  {
   "cell_type": "markdown",
   "metadata": {},
   "source": [
    "Nel 2010 è stata definita una nuova sequenza di Fibonacci, secondo la seguente relazione di ricorrenza:\n",
    "\n",
    "$S_n$ = $S_{n-1}$ + $S_{n-2}$ per $n\\geq 2$\n",
    "\n",
    "con condizioni iniziali\n",
    "\n",
    "$S_0$ = $F_0 + L_0$ = 2, $S_1$ = $F_1 + L_1$ = 2 \n",
    "\n",
    "ossia pari alla somma delle condizioni iniziali dei numeri di Fibonacci e di Lucas.\n",
    "\n",
    "Nel 2013 è stata invece introdotta la seguente relazione di ricorrenza:\n",
    "\n",
    "$H_n$ = $2H_{n-1}$ + $H_{n-2}$ per $n\\geq 2$\n",
    "\n",
    "con: $H_0$ = 2, $H_1$ = 1 \n",
    "\n",
    "In questo caso le condizioni iniziali sono pari alla differenza tra quelle delle sequenze di Pell-Lucas e di Pell."
   ]
  },
  {
   "cell_type": "markdown",
   "metadata": {},
   "source": [
    "Nel progetto realizzato, ci siamo concentrati sulla sequenza di Fibonacci generalizzata così definita:\n",
    "\n",
    "$R_n$ = $R_{n-1}$ + $R_{n-2}$ per $n\\geq 2$\n",
    "\n",
    "A partire dai numeri di Fibonacci e quelli di Lucas, è possibile definire tale sequenza, che soddisfa la seguente relazione:\n",
    "\n",
    "$R_n$ = $aF_n$ + $bL_n$  $n\\geq 0$\n",
    "\n",
    "con condizioni iniziali: $R_0$ = $aF_0 + bL_0$, $R_1$ = $aF_1 + bL_1$"
   ]
  },
  {
   "cell_type": "code",
   "execution_count": 7,
   "metadata": {
    "collapsed": false
   },
   "outputs": [],
   "source": [
    "def Lucas(n):\n",
    "    \n",
    "    if n == 0:\n",
    "        return [2]\n",
    "    elif n == 1:\n",
    "        return [2, 1]\n",
    "    else:\n",
    "        lst = Lucas(n-1)\n",
    "        lst.append(lst[-1] + lst[-2])\n",
    "        return lst\n",
    "    \n",
    "\n",
    "def Fibonacci(n):\n",
    "    if n == 0:\n",
    "        return [0]\n",
    "    elif n == 1:\n",
    "        return [0, 1]\n",
    "    else:\n",
    "        lst = Fibonacci(n-1)\n",
    "        lst.append(lst[-1] + lst[-2])\n",
    "        return lst\n",
    "\n",
    "\n",
    "def FibonacciGeneralizzato(n):\n",
    "    \n",
    "    lst=[]\n",
    "    L=Lucas(n)\n",
    "    F=Fibonacci(n)\n",
    "    \n",
    "    for i in range(0,len(L)):\n",
    "        \n",
    "        if(F[i]==1 and L[i]!=1):\n",
    "            lst.append('a'+'+'+str(L[i])+'b')\n",
    "            \n",
    "        elif (L[i]==1 and F[i]!=1):\n",
    "            lst.append(str(F[i])+'a'+'+'+'b')\n",
    "            \n",
    "        elif (L[i]==1 and F[i]==1):\n",
    "            lst.append('a'+'+'+'b')\n",
    "            \n",
    "        elif (F[i]==0):\n",
    "            lst.append(str(L[i])+'b')\n",
    "        \n",
    "        else:\n",
    "            lst.append(str(F[i])+'a'+'+'+str(L[i])+'b')\n",
    "    \n",
    "    for l in lst:\n",
    "        print(l)\n",
    "        \n"
   ]
  },
  {
   "cell_type": "markdown",
   "metadata": {},
   "source": [
    "Ad esempio, i primi 6 termini della sequenza sono:"
   ]
  },
  {
   "cell_type": "code",
   "execution_count": 8,
   "metadata": {
    "collapsed": false
   },
   "outputs": [
    {
     "name": "stdout",
     "output_type": "stream",
     "text": [
      "2b\n",
      "a+b\n",
      "a+3b\n",
      "2a+4b\n",
      "3a+7b\n",
      "5a+11b\n"
     ]
    }
   ],
   "source": [
    "FibonacciGeneralizzato(5)"
   ]
  },
  {
   "cell_type": "markdown",
   "metadata": {},
   "source": [
    "\n"
   ]
  },
  {
   "cell_type": "markdown",
   "metadata": {},
   "source": [
    "La relazione di ricorrenza dei numeri di Fibonacci generalizzata ha come equazione caratteristica:\n",
    "\n",
    "$t^2-t-1 = 0 $\n",
    "\n",
    "Svolgendo i calcoli, ricaviamo come soluzioni:\n",
    "\n",
    "$\\alpha$ = $\\cfrac{1+\\sqrt{5}}{2}$ \n",
    "\n",
    "$\\beta$ = $\\cfrac{1-\\sqrt{5}}{2}$ \n"
   ]
  },
  {
   "cell_type": "markdown",
   "metadata": {},
   "source": [
    "E la corrispondente funzione generatrice è\n",
    "\n",
    "$\\displaystyle\\sum_{n=0}^\\infty R_nt^n $ = $\\cfrac{2b + (a-b)t}{1-t-t^2}$"
   ]
  },
  {
   "cell_type": "code",
   "execution_count": 9,
   "metadata": {
    "collapsed": false
   },
   "outputs": [],
   "source": [
    "def FibGen(n, a, b):\n",
    "    return a*Fib(n)+b*Luc(n)\n",
    "\n",
    "R = implemented_function(Function('R'), FibGen)\n",
    "lambda_fg = lambdify(n, R(n))\n"
   ]
  },
  {
   "cell_type": "markdown",
   "metadata": {
    "collapsed": true
   },
   "source": [
    "Nel caso in cui a=2 e b=1, i primi dieci termini della sequenza sono:\n"
   ]
  },
  {
   "cell_type": "code",
   "execution_count": 10,
   "metadata": {
    "collapsed": false
   },
   "outputs": [
    {
     "data": {
      "image/png": "[encoded data removed]",
      "text/latex": [
       "$$\\left [ \\left ( 0, \\quad 2.0\\right ), \\quad \\left ( 1, \\quad 3.0\\right ), \\quad \\left ( 2, \\quad 5.0\\right ), \\quad \\left ( 3, \\quad 8.0\\right ), \\quad \\left ( 4, \\quad 13.0\\right ), \\quad \\left ( 5, \\quad 21.0\\right ), \\quad \\left ( 6, \\quad 34.0\\right ), \\quad \\left ( 7, \\quad 55.0\\right ), \\quad \\left ( 8, \\quad 89.0\\right ), \\quad \\left ( 9, \\quad 144.0\\right )\\right ]$$"
      ],
      "text/plain": [
       "[(0, 2.0), (1, 3.0), (2, 5.0), (3, 8.0), (4, 13.0), (5, 21.0), (6, 34.0), (7, \n",
       "55.0), (8, 89.0), (9, 144.0)]"
      ]
     },
     "execution_count": 10,
     "metadata": {},
     "output_type": "execute_result"
    }
   ],
   "source": [
    "[(n, R(n, 2, 1).evalf()) for n in range(0, 10)]"
   ]
  },
  {
   "cell_type": "markdown",
   "metadata": {
    "collapsed": true
   },
   "source": [
    "Se abbiamo invece a=1 e b=1, otteniamo:"
   ]
  },
  {
   "cell_type": "code",
   "execution_count": 11,
   "metadata": {
    "collapsed": false
   },
   "outputs": [
    {
     "data": {
      "image/png": "[encoded data removed]",
      "text/latex": [
       "$$\\left [ \\left ( 0, \\quad 2.0\\right ), \\quad \\left ( 1, \\quad 2.0\\right ), \\quad \\left ( 2, \\quad 4.0\\right ), \\quad \\left ( 3, \\quad 6.0\\right ), \\quad \\left ( 4, \\quad 10.0\\right ), \\quad \\left ( 5, \\quad 16.0\\right ), \\quad \\left ( 6, \\quad 26.0\\right ), \\quad \\left ( 7, \\quad 42.0\\right ), \\quad \\left ( 8, \\quad 68.0\\right ), \\quad \\left ( 9, \\quad 110.0\\right )\\right ]$$"
      ],
      "text/plain": [
       "[(0, 2.0), (1, 2.0), (2, 4.0), (3, 6.0), (4, 10.0), (5, 16.0), (6, 26.0), (7, \n",
       "42.0), (8, 68.0), (9, 110.0)]"
      ]
     },
     "execution_count": 11,
     "metadata": {},
     "output_type": "execute_result"
    }
   ],
   "source": [
    "[(n, R(n, 1, 1).evalf()) for n in range(0, 10)]"
   ]
  },
  {
   "cell_type": "markdown",
   "metadata": {},
   "source": [
    "La formula di Binet per la sequenza generalizzata di Fibonacci è così definita:\n",
    "\n",
    "$R_{n}$ = $C_1 \\alpha^{n}$ + $C_2 \\beta^{n}$ = $C_1\\bigg(\\cfrac{1+\\sqrt5}{2}\\bigg)^{n} + C_2\\bigg(\\cfrac{1-\\sqrt5}{2}\\bigg)^{n}$\n",
    "\n",
    "con $C_1= \\cfrac{a+b\\sqrt5}{\\sqrt5} $ e $C_2 = \\cfrac{-a+b\\sqrt5}{\\sqrt5} $\n",
    "\n"
   ]
  },
  {
   "cell_type": "code",
   "execution_count": 12,
   "metadata": {
    "collapsed": false
   },
   "outputs": [
    {
     "data": {
      "image/png": "[encoded data removed]",
      "text/latex": [
       "$$\\left [ \\left ( 0, \\quad 2.0\\right ), \\quad \\left ( 1, \\quad 3.0\\right ), \\quad \\left ( 2, \\quad 5.0\\right ), \\quad \\left ( 3, \\quad 8.0\\right ), \\quad \\left ( 4, \\quad 13.0\\right ), \\quad \\left ( 5, \\quad 21.0\\right ), \\quad \\left ( 6, \\quad 34.0\\right ), \\quad \\left ( 7, \\quad 55.0\\right ), \\quad \\left ( 8, \\quad 89.0\\right ), \\quad \\left ( 9, \\quad 144.0\\right )\\right ]$$"
      ],
      "text/plain": [
       "[(0, 2.0), (1, 3.0), (2, 5.0), (3, 8.0), (4, 13.0), (5, 21.0), (6, 34.0), (7, \n",
       "55.0), (8, 89.0), (9, 144.0)]"
      ]
     },
     "execution_count": 12,
     "metadata": {},
     "output_type": "execute_result"
    }
   ],
   "source": [
    "def FibBinet(n, a, b):\n",
    "    C1 = (a + b*np.sqrt(5))/(np.sqrt(5))\n",
    "    C2 = (- a + b*np.sqrt(5))/(np.sqrt(5))\n",
    "    return C1*np.power(((1 + np.sqrt(5))/2),n) + C2*np.power(((1 - np.sqrt(5))/2),n)\n",
    "    \n",
    "FB = implemented_function(Function('FB'), FibBinet)\n",
    "lambda_fb = lambdify(n, FB(n))\n",
    "\n",
    "[(n, FB(n, 2, 1).evalf()) for n in range(0, 10)]\n"
   ]
  },
  {
   "cell_type": "markdown",
   "metadata": {
    "collapsed": false
   },
   "source": [
    "Per confermare la validità della formula, eseguiamo una verifica numerica:"
   ]
  },
  {
   "cell_type": "code",
   "execution_count": 13,
   "metadata": {
    "collapsed": false
   },
   "outputs": [
    {
     "data": {
      "image/png": "[encoded data removed]",
      "text/latex": [
       "$$\\left [ \\left ( 0, \\quad 0\\right ), \\quad \\left ( 1, \\quad 0\\right ), \\quad \\left ( 2, \\quad 0\\right ), \\quad \\left ( 3, \\quad 0\\right ), \\quad \\left ( 4, \\quad 0\\right ), \\quad \\left ( 5, \\quad 0\\right ), \\quad \\left ( 6, \\quad 0\\right ), \\quad \\left ( 7, \\quad 0\\right ), \\quad \\left ( 8, \\quad 0\\right ), \\quad \\left ( 9, \\quad 0\\right )\\right ]$$"
      ],
      "text/plain": [
       "[(0, 0), (1, 0), (2, 0), (3, 0), (4, 0), (5, 0), (6, 0), (7, 0), (8, 0), (9, 0\n",
       ")]"
      ]
     },
     "execution_count": 13,
     "metadata": {},
     "output_type": "execute_result"
    }
   ],
   "source": [
    "a=random.randrange(5)\n",
    "b=random.randrange(5)\n",
    "[(n, int(FB(n, a, b).evalf()-R(n, a, b).evalf())) for n in range(0, 10)]"
   ]
  },
  {
   "cell_type": "markdown",
   "metadata": {
    "collapsed": false
   },
   "source": [
    "Le differenze tra i termini delle due successioni sono 0 oppure dei numeri molto piccoli (ad esempio dell'ordine di $10^{-15}$): per tale ragione ho effettuato un arrotondamento a int, ottenendo tutti zeri."
   ]
  },
  {
   "cell_type": "markdown",
   "metadata": {},
   "source": [
    "Di seguito, è stata eseguita la verifica numerica di alcune identità sulla sequenza di Fibonacci generalizzata."
   ]
  },
  {
   "cell_type": "markdown",
   "metadata": {
    "collapsed": true
   },
   "source": [
    "$\\textbf{Teorema 3.1}$\n",
    "\n",
    "Sia $R_n$ l'n-esimo termine della successione di Fibonacci generalizzata. Dunque\n",
    "\n",
    "$R_n$ = $2b\\displaystyle\\sum_{k=0}^{\\frac{n}{2}}\\binom{n-k}{k}$ + $(a-b)\\displaystyle\\sum_{k=0}^{\\frac{n-1}{2}}\\binom{n-k-1}{k}$\n"
   ]
  },
  {
   "cell_type": "code",
   "execution_count": 14,
   "metadata": {
    "collapsed": false
   },
   "outputs": [
    {
     "data": {
      "image/png": "[encoded data removed]",
      "text/latex": [
       "$$\\left [ 0, \\quad 0, \\quad 0, \\quad 0, \\quad 0, \\quad 0, \\quad 0, \\quad 0, \\quad 0\\right ]$$"
      ],
      "text/plain": [
       "[0, 0, 0, 0, 0, 0, 0, 0, 0]"
      ]
     },
     "execution_count": 14,
     "metadata": {},
     "output_type": "execute_result"
    }
   ],
   "source": [
    "a = symbols('a', integer = True)\n",
    "b = symbols('b', integer = True)\n",
    "n = symbols('n', integer = True)\n",
    "m = symbols('m', integer = True)\n",
    "p = symbols('p', integer = True)\n",
    "\n",
    "expr = 2*b*Sum(binomial(n-k,k),(k,0,m))+(a-b)*Sum(binomial(n-k-1,k),(k,0,p))\n",
    "Tn1 = Lambda([n, a, b, m, p], simplify(expr))\n",
    "\n",
    "a=2\n",
    "b=1\n",
    "\n",
    "lst=[]\n",
    "lst2=[]\n",
    "for n in range(1, 10):\n",
    "    lst1=()\n",
    "    FG=()\n",
    "    m=int(n/2)\n",
    "    p=int((n-1)/2)\n",
    "    \n",
    "    lst1=(Tn1(n, a, b, m, p).doit())\n",
    "    FG=(R(n, a, b).evalf())\n",
    "    \n",
    "    lst.append(lst1)\n",
    "    lst2.append(FG)\n",
    "    \n",
    "[(lst2[i]-lst[i]) for i in range(0, len(lst))]\n"
   ]
  },
  {
   "cell_type": "markdown",
   "metadata": {
    "collapsed": true
   },
   "source": [
    "$\\textbf{Teorema 3.2}$\n",
    "\n",
    "La somma dei primi n termini della successione di Fibonacci generalizzata è\n",
    "\n",
    "$\\displaystyle\\sum_{k=1}^{n}R_k$ = $R_{n-2}-(a + 3b) $"
   ]
  },
  {
   "cell_type": "markdown",
   "metadata": {
    "collapsed": false
   },
   "source": [
    "Per la confermare la validità di questa uguaglianza, eseguiamo una verifica numerica:"
   ]
  },
  {
   "cell_type": "code",
   "execution_count": 15,
   "metadata": {
    "collapsed": false
   },
   "outputs": [
    {
     "data": {
      "image/png": "[encoded data removed]",
      "text/latex": [
       "$$\\left [ \\left ( 0, \\quad 0\\right ), \\quad \\left ( 1, \\quad 0\\right ), \\quad \\left ( 2, \\quad 0\\right ), \\quad \\left ( 3, \\quad 0\\right ), \\quad \\left ( 4, \\quad 0\\right ), \\quad \\left ( 5, \\quad 0\\right ), \\quad \\left ( 6, \\quad 0\\right ), \\quad \\left ( 7, \\quad 0\\right ), \\quad \\left ( 8, \\quad 0\\right ), \\quad \\left ( 9, \\quad 0\\right )\\right ]$$"
      ],
      "text/plain": [
       "[(0, 0), (1, 0), (2, 0), (3, 0), (4, 0), (5, 0), (6, 0), (7, 0), (8, 0), (9, 0\n",
       ")]"
      ]
     },
     "execution_count": 15,
     "metadata": {},
     "output_type": "execute_result"
    }
   ],
   "source": [
    "n = symbols('n', integer = True)\n",
    "a = symbols('a', integer = True)\n",
    "b = symbols('b', integer = True)\n",
    "\n",
    "expr1 = Sum(R(k, a, b), (k, 1, n))\n",
    "val_expr1 = Lambda([n, a, b], simplify(expr1))\n",
    "\n",
    "expr2 = R(n+2, a, b)-(a+3*b)\n",
    "val_expr2 = Lambda([n, a, b], simplify(expr2))\n",
    "\n",
    "a=random.randrange(1,5)\n",
    "b=random.randrange(1,5)\n",
    "\n",
    "[(n, val_expr1(n, a, b).evalf(chop=True)-val_expr2(n, a, b).evalf(chop=True)) for n in range(0,10)]\n",
    "\n",
    "\n"
   ]
  },
  {
   "cell_type": "markdown",
   "metadata": {
    "collapsed": false
   },
   "source": [
    "$\\textbf{Teorema 3.3}$\n",
    "\n",
    "La somma dei primi n termini con indice dispari è \n",
    "\n",
    "$\\displaystyle\\sum_{k=1}^{n}R_{2k-1}$ = $R_{2n}- 2b $"
   ]
  },
  {
   "cell_type": "markdown",
   "metadata": {},
   "source": [
    "Anche in questo caso possiamo eseguire una verifica numerica:"
   ]
  },
  {
   "cell_type": "code",
   "execution_count": 16,
   "metadata": {
    "collapsed": false
   },
   "outputs": [
    {
     "data": {
      "image/png": "[encoded data removed]",
      "text/latex": [
       "$$\\left [ \\left ( 0, \\quad 0\\right ), \\quad \\left ( 1, \\quad 0\\right ), \\quad \\left ( 2, \\quad 0\\right ), \\quad \\left ( 3, \\quad 0\\right ), \\quad \\left ( 4, \\quad 0\\right ), \\quad \\left ( 5, \\quad 0\\right ), \\quad \\left ( 6, \\quad 0\\right ), \\quad \\left ( 7, \\quad 0\\right ), \\quad \\left ( 8, \\quad 0\\right ), \\quad \\left ( 9, \\quad 0\\right )\\right ]$$"
      ],
      "text/plain": [
       "[(0, 0), (1, 0), (2, 0), (3, 0), (4, 0), (5, 0), (6, 0), (7, 0), (8, 0), (9, 0\n",
       ")]"
      ]
     },
     "execution_count": 16,
     "metadata": {},
     "output_type": "execute_result"
    }
   ],
   "source": [
    "n = symbols('n', integer = True)\n",
    "a = symbols('a', integer = True)\n",
    "b = symbols('b', integer = True)\n",
    "\n",
    "expr3 = Sum(R(2*k-1, a, b), (k, 1, n))\n",
    "val_expr3 = Lambda([n, a, b], simplify(expr3))\n",
    "\n",
    "expr4 = R(2*n, a, b)-(2*b)\n",
    "val_expr4 = Lambda([n, a, b], simplify(expr4))\n",
    "\n",
    "a=random.randrange(1,5)\n",
    "b=random.randrange(1,5)\n",
    "\n",
    "[(n, (val_expr3(n, a, b).evalf(chop=True)-val_expr4(n, a, b).evalf(chop=True))) for n in range(0,10)]"
   ]
  },
  {
   "cell_type": "markdown",
   "metadata": {
    "collapsed": true
   },
   "source": [
    "$\\textbf{Teorema 3.4}$\n",
    "\n",
    "La somma dei primi n termini con indice pari è \n",
    "\n",
    "$\\displaystyle\\sum_{k=1}^{n}R_{2k}$ = $R_{2n+1}- (a+b) $"
   ]
  },
  {
   "cell_type": "code",
   "execution_count": 17,
   "metadata": {
    "collapsed": false
   },
   "outputs": [
    {
     "data": {
      "image/png": "[encoded data removed]",
      "text/latex": [
       "$$\\left [ \\left ( 0, \\quad 0\\right ), \\quad \\left ( 1, \\quad 0\\right ), \\quad \\left ( 2, \\quad 0\\right ), \\quad \\left ( 3, \\quad 0\\right ), \\quad \\left ( 4, \\quad 0\\right ), \\quad \\left ( 5, \\quad 0\\right ), \\quad \\left ( 6, \\quad 0\\right ), \\quad \\left ( 7, \\quad 0\\right ), \\quad \\left ( 8, \\quad 0\\right ), \\quad \\left ( 9, \\quad 0\\right )\\right ]$$"
      ],
      "text/plain": [
       "[(0, 0), (1, 0), (2, 0), (3, 0), (4, 0), (5, 0), (6, 0), (7, 0), (8, 0), (9, 0\n",
       ")]"
      ]
     },
     "execution_count": 17,
     "metadata": {},
     "output_type": "execute_result"
    }
   ],
   "source": [
    "n = symbols('n', integer = True)\n",
    "a = symbols('a', integer = True)\n",
    "b = symbols('b', integer = True)\n",
    "\n",
    "expr3 = Sum(R(2*k, a, b), (k, 1, n))\n",
    "val_expr3 = Lambda([n, a, b], simplify(expr3))\n",
    "\n",
    "expr4 = R(2*n+1, a, b)-(a+b)\n",
    "val_expr4 = Lambda([n, a, b], simplify(expr4))\n",
    "\n",
    "a=random.randrange(1,5)\n",
    "b=random.randrange(1,5)\n",
    "\n",
    "[(n, (val_expr3(n, a, b).evalf(chop=True)-val_expr4(n, a, b).evalf(chop=True))) for n in range(0,10)]"
   ]
  },
  {
   "cell_type": "markdown",
   "metadata": {
    "collapsed": false
   },
   "source": [
    "$\\textbf{Teorema 3.5}$\n",
    "\n",
    "La somma dei quadrati dei primi n termini della sequenza di Fibonacci generalizzata $\\left\\lbrace R_n \\right\\rbrace$ è\n",
    "\n",
    "$R_{1}^2 + R_{2}^2 + R_{3}^2 + ... + R_{n}^2$ = $R_n R_{n+1} - 2*(2+1) $"
   ]
  },
  {
   "cell_type": "code",
   "execution_count": 18,
   "metadata": {
    "collapsed": false
   },
   "outputs": [
    {
     "data": {
      "image/png": "[encoded data removed]",
      "text/latex": [
       "$$\\left [ \\left ( 0, \\quad 0\\right ), \\quad \\left ( 1, \\quad 0\\right ), \\quad \\left ( 2, \\quad 0\\right ), \\quad \\left ( 3, \\quad 0\\right ), \\quad \\left ( 4, \\quad 0\\right ), \\quad \\left ( 5, \\quad 0\\right ), \\quad \\left ( 6, \\quad 0\\right ), \\quad \\left ( 7, \\quad 0\\right ), \\quad \\left ( 8, \\quad 0\\right ), \\quad \\left ( 9, \\quad 0\\right )\\right ]$$"
      ],
      "text/plain": [
       "[(0, 0), (1, 0), (2, 0), (3, 0), (4, 0), (5, 0), (6, 0), (7, 0), (8, 0), (9, 0\n",
       ")]"
      ]
     },
     "execution_count": 18,
     "metadata": {},
     "output_type": "execute_result"
    }
   ],
   "source": [
    "n = symbols('n', integer = True)\n",
    "a = symbols('a', integer = True)\n",
    "b = symbols('b', integer = True)\n",
    "\n",
    "expr5 = Sum(R(k, a, b)**2, (k, 1, n))\n",
    "val_expr5 = Lambda([n, a, b], simplify(expr5))\n",
    "\n",
    "expr6 = (R(n, a, b)*R(n+1, a, b) -2*b*(a+b))\n",
    "val_expr6 = Lambda([n, a, b], simplify(expr6))\n",
    "\n",
    "a=random.randrange(1,5)\n",
    "b=random.randrange(1,5)\n",
    "\n",
    "[(n, (val_expr5(n, a, b).evalf(chop=True)-val_expr6(n, a, b).evalf(chop=True))) for n in range(0,10)]"
   ]
  },
  {
   "cell_type": "markdown",
   "metadata": {
    "collapsed": true
   },
   "source": [
    "$\\textbf{Teorema 3.6}$\n",
    "\n",
    "Per ogni intero positivo n\n",
    "\n",
    "$R_{3} + R_{6} + R_{9} + ... + R_{3n}$ = $\\cfrac{1}{2}\\big[R_{3n+2} - (a+3b)\\big]$"
   ]
  },
  {
   "cell_type": "code",
   "execution_count": 19,
   "metadata": {
    "collapsed": false
   },
   "outputs": [
    {
     "data": {
      "image/png": "[encoded data removed]",
      "text/latex": [
       "$$\\left [ \\left ( 0, \\quad 0\\right ), \\quad \\left ( 1, \\quad 0\\right ), \\quad \\left ( 2, \\quad 0\\right ), \\quad \\left ( 3, \\quad 0\\right ), \\quad \\left ( 4, \\quad 0\\right ), \\quad \\left ( 5, \\quad 0\\right ), \\quad \\left ( 6, \\quad 0\\right )\\right ]$$"
      ],
      "text/plain": [
       "[(0, 0), (1, 0), (2, 0), (3, 0), (4, 0), (5, 0), (6, 0)]"
      ]
     },
     "execution_count": 19,
     "metadata": {},
     "output_type": "execute_result"
    }
   ],
   "source": [
    "n = symbols('n', integer = True)\n",
    "a = symbols('a', integer = True)\n",
    "b = symbols('b', integer = True)\n",
    "\n",
    "expr7 = Sum(R(3*k, a, b), (k, 1, n))\n",
    "val_expr7 = Lambda([n, a, b], simplify(expr7))\n",
    "\n",
    "expr8 = (1/2)*(R(3*n+2, a, b) -(a+3*b))\n",
    "val_expr8 = Lambda([n, a, b], simplify(expr8))\n",
    "\n",
    "a=random.randrange(1,5)\n",
    "b=random.randrange(1,5)\n",
    "\n",
    "[(n, (val_expr7(n, a, b).evalf(chop=True)-val_expr8(n, a, b).evalf(chop=True))) for n in range(0,7)]"
   ]
  },
  {
   "cell_type": "markdown",
   "metadata": {},
   "source": [
    "$\\textbf{Teorema 3.7}$\n",
    "\n",
    "Per ogni intero positivo n\n",
    "\n",
    "$R_{5} + R_{8} + R_{11} + ... + R_{3n+2}$ = $\\cfrac{1}{2}\\big[R_{3n+4} - (3a+7b)\\big]$"
   ]
  },
  {
   "cell_type": "code",
   "execution_count": 20,
   "metadata": {
    "collapsed": false
   },
   "outputs": [
    {
     "data": {
      "image/png": "[encoded data removed]",
      "text/latex": [
       "$$\\left [ \\left ( 0, \\quad 0\\right ), \\quad \\left ( 1, \\quad 0\\right ), \\quad \\left ( 2, \\quad 0\\right ), \\quad \\left ( 3, \\quad 0\\right ), \\quad \\left ( 4, \\quad 0\\right )\\right ]$$"
      ],
      "text/plain": [
       "[(0, 0), (1, 0), (2, 0), (3, 0), (4, 0)]"
      ]
     },
     "execution_count": 20,
     "metadata": {},
     "output_type": "execute_result"
    }
   ],
   "source": [
    "n = symbols('n', integer = True)\n",
    "a = symbols('a', integer = True)\n",
    "b = symbols('b', integer = True)\n",
    "\n",
    "expr9 = Sum(R(3*k+2, a, b), (k, 1, n))\n",
    "val_expr9 = Lambda([n, a, b], simplify(expr9))\n",
    "\n",
    "expr10 = (1/2)*(R(3*n+4, a, b) -(3*a+7*b))\n",
    "val_expr10 = Lambda([n, a, b], simplify(expr10))\n",
    "\n",
    "a=random.randrange(1,5)\n",
    "b=random.randrange(1,5)\n",
    "\n",
    "[(n, (val_expr9(n, a, b).evalf(chop=True)-val_expr10(n, a, b).evalf(chop=True))) for n in range(0,5)]"
   ]
  },
  {
   "cell_type": "markdown",
   "metadata": {},
   "source": [
    "$\\textbf{Teorema 3.8}$\n",
    "\n",
    "Per ogni intero positivo n\n",
    "\n",
    "$R_{n}^{2}$ = $R_{n}R_{n+1}-R_{n-1}R_{n}$"
   ]
  },
  {
   "cell_type": "code",
   "execution_count": 21,
   "metadata": {
    "collapsed": false
   },
   "outputs": [
    {
     "data": {
      "image/png": "[encoded data removed]",
      "text/latex": [
       "$$\\left [ \\left ( 0, \\quad 0\\right ), \\quad \\left ( 1, \\quad 0\\right ), \\quad \\left ( 2, \\quad 0\\right ), \\quad \\left ( 3, \\quad 0\\right ), \\quad \\left ( 4, \\quad 0\\right ), \\quad \\left ( 5, \\quad 0\\right ), \\quad \\left ( 6, \\quad 0\\right )\\right ]$$"
      ],
      "text/plain": [
       "[(0, 0), (1, 0), (2, 0), (3, 0), (4, 0), (5, 0), (6, 0)]"
      ]
     },
     "execution_count": 21,
     "metadata": {},
     "output_type": "execute_result"
    }
   ],
   "source": [
    "n = symbols('n', integer = True)\n",
    "a = symbols('a', integer = True)\n",
    "b = symbols('b', integer = True)\n",
    "\n",
    "expr99 = R(n, a, b)*R(n, a, b)\n",
    "val_expr99 = Lambda([n, a, b], simplify(expr99))\n",
    "\n",
    "expr90 = (R(n+1, a, b)*R(n, a, b) - R(n-1, a, b)*R(n, a, b))\n",
    "val_expr90 = Lambda([n, a, b], simplify(expr90))\n",
    "\n",
    "a=random.randrange(1,5)\n",
    "b=random.randrange(1,5)\n",
    "\n",
    "[(n, (val_expr99(n, a, b).evalf(chop=True)-val_expr90(n, a, b).evalf(chop=True))) for n in range(0,7)]"
   ]
  },
  {
   "cell_type": "markdown",
   "metadata": {},
   "source": [
    "$\\textbf{Teorema 3.9}$\n",
    "\n",
    "Per ogni intero positivo n\n",
    "\n",
    "$R_{2n}$ = $\\displaystyle\\sum_{k=0}^n \\binom{n}{k} R_{n-k}$"
   ]
  },
  {
   "cell_type": "code",
   "execution_count": 22,
   "metadata": {
    "collapsed": false
   },
   "outputs": [
    {
     "data": {
      "image/png": "[encoded data removed]",
      "text/latex": [
       "$$\\left [ \\left ( 0, \\quad 0\\right ), \\quad \\left ( 1, \\quad 0\\right ), \\quad \\left ( 2, \\quad 0\\right ), \\quad \\left ( 3, \\quad 0\\right ), \\quad \\left ( 4, \\quad 0\\right ), \\quad \\left ( 5, \\quad 0\\right ), \\quad \\left ( 6, \\quad 0\\right ), \\quad \\left ( 7, \\quad 0\\right ), \\quad \\left ( 8, \\quad 0\\right ), \\quad \\left ( 9, \\quad 0\\right )\\right ]$$"
      ],
      "text/plain": [
       "[(0, 0), (1, 0), (2, 0), (3, 0), (4, 0), (5, 0), (6, 0), (7, 0), (8, 0), (9, 0\n",
       ")]"
      ]
     },
     "execution_count": 22,
     "metadata": {},
     "output_type": "execute_result"
    }
   ],
   "source": [
    "n = symbols('n', integer = True)\n",
    "a = symbols('a', integer = True)\n",
    "b = symbols('b', integer = True)\n",
    "\n",
    "expr11 = R(2*n, a, b)\n",
    "val_expr11 = Lambda([n, a, b], simplify(expr11))\n",
    "\n",
    "expr12 = Sum(binomial(n,k)*R(n-k, a, b), (k, 0, n))\n",
    "val_expr12 = Lambda([n, a, b], simplify(expr12))\n",
    "\n",
    "a=random.randrange(1,5)\n",
    "b=random.randrange(1,5)\n",
    "\n",
    "[(n, (val_expr11(n, a, b).evalf(chop=True)-val_expr12(n, a, b).evalf(chop=True))) for n in range(0,10)]"
   ]
  },
  {
   "cell_type": "markdown",
   "metadata": {},
   "source": [
    "$\\textbf{Corollario 3.10.1 (Identità di Catalan)}$\n",
    "\n",
    "Sia $R_{n}$ il termine n-esimo della sequenza di Fibonacci generalizzata. Allora\n",
    "\n",
    "$R_{n}^2 - R_{n+r}R_{n-r}$ = $\\cfrac{(-1)^{n-r}}{(a^2-5b^2)}\\big[(a+b)R_{r}-2bR_{r+1}\\big]^2$ con $n>r\\geq1$\n",
    "\n",
    "Anche in questo caso, effettuiamo una verifica numerica"
   ]
  },
  {
   "cell_type": "code",
   "execution_count": 23,
   "metadata": {
    "collapsed": false
   },
   "outputs": [
    {
     "data": {
      "image/png": "[encoded data removed]",
      "text/latex": [
       "$$\\left [ \\left ( 5, \\quad 0\\right ), \\quad \\left ( 6, \\quad 0\\right ), \\quad \\left ( 7, \\quad 0\\right ), \\quad \\left ( 8, \\quad 0\\right ), \\quad \\left ( 9, \\quad 0\\right ), \\quad \\left ( 10, \\quad 0\\right ), \\quad \\left ( 11, \\quad 0\\right ), \\quad \\left ( 12, \\quad 0\\right ), \\quad \\left ( 13, \\quad 0\\right ), \\quad \\left ( 14, \\quad 0\\right )\\right ]$$"
      ],
      "text/plain": [
       "[(5, 0), (6, 0), (7, 0), (8, 0), (9, 0), (10, 0), (11, 0), (12, 0), (13, 0), (\n",
       "14, 0)]"
      ]
     },
     "execution_count": 23,
     "metadata": {},
     "output_type": "execute_result"
    }
   ],
   "source": [
    "n = symbols('n', integer = True)\n",
    "a = symbols('a', integer = True)\n",
    "b = symbols('b', integer = True)\n",
    "r = symbols('r', integer = True)\n",
    "\n",
    "expr25 = R(n, a, b)*R(n, a, b) - R(n+r, a, b)*R(n-r, a, b)\n",
    "val_expr25 = Lambda([n, a, b, r], simplify(expr25))\n",
    "\n",
    "\n",
    "expr26 =  Pow((-1),n-r)/(Pow(a,2)-5*Pow(b,2))*Pow((a+b)*R(r, a, b)-2*b*R(r+1, a, b),2)\n",
    "val_expr26 = Lambda([n, a, b, r], simplify(expr26))\n",
    "\n",
    "\n",
    "a=random.randrange(1,5)\n",
    "b=random.randrange(1,5)\n",
    "\n",
    "lst=[]\n",
    "for n in range(5,15):\n",
    "    r=random.randrange(1,n)\n",
    "    lst.append((n, val_expr25(n, a, b, r).evalf(chop=True)-val_expr26(n, a, b, r).evalf(chop=True)))\n",
    "\n",
    "lst"
   ]
  },
  {
   "cell_type": "markdown",
   "metadata": {
    "collapsed": true
   },
   "source": [
    "$\\textbf{Corollario 3.10.1 (Identità di Cassini)}$\n",
    "\n",
    "Sia $R_{n}$ il termine n-esimo della sequenza di Fibonacci generalizzata. Allora\n",
    "\n",
    "$R_{n}^2 - R_{n+1}R_{n-1}$ = $(-1)^{n-r}(a^2-5b^2)$ con $n\\ge 1$\n"
   ]
  },
  {
   "cell_type": "markdown",
   "metadata": {},
   "source": [
    "Ponendo r=1 nell'identità' di Catalan, le due espressioni risultano equivalenti.\n",
    "\n",
    "Come primo passo, verificiamo l'identità di Cassini per via numerica."
   ]
  },
  {
   "cell_type": "code",
   "execution_count": 24,
   "metadata": {
    "collapsed": false
   },
   "outputs": [
    {
     "data": {
      "image/png": "[encoded data removed]",
      "text/latex": [
       "$$\\left [ \\left ( 2, \\quad 0\\right ), \\quad \\left ( 3, \\quad 0\\right ), \\quad \\left ( 4, \\quad 0\\right ), \\quad \\left ( 5, \\quad 0\\right ), \\quad \\left ( 6, \\quad 0\\right ), \\quad \\left ( 7, \\quad 0\\right ), \\quad \\left ( 8, \\quad 0\\right ), \\quad \\left ( 9, \\quad 0\\right ), \\quad \\left ( 10, \\quad 0\\right ), \\quad \\left ( 11, \\quad 0\\right )\\right ]$$"
      ],
      "text/plain": [
       "[(2, 0), (3, 0), (4, 0), (5, 0), (6, 0), (7, 0), (8, 0), (9, 0), (10, 0), (11,\n",
       " 0)]"
      ]
     },
     "execution_count": 24,
     "metadata": {},
     "output_type": "execute_result"
    }
   ],
   "source": [
    "n = symbols('n', integer = True)\n",
    "a = symbols('a', integer = True)\n",
    "b = symbols('b', integer = True)\n",
    "r = symbols('r', integer = True)\n",
    "\n",
    "expr13 = R(n, a, b)**2 - R(n+1, a, b)*R(n-1, a, b)\n",
    "val_expr13 = Lambda([n, a, b], simplify(expr11))\n",
    "\n",
    "expr14 = Pow((-1),n-r)*(Pow(a,2) - 5*Pow(b,2))\n",
    "val_expr14 = Lambda([n, a, b, r], simplify(expr12))\n",
    "\n",
    "a=random.randrange(1,5)\n",
    "b=random.randrange(1,5)\n",
    "\n",
    "lst=[]\n",
    "for n in range(2,12):\n",
    "    r=random.randrange(1,n)\n",
    "    lst.append((n, val_expr13(n, a, b).evalf(chop=True)-val_expr14(n, a, b, r).evalf(chop=True)))\n",
    "\n",
    "lst"
   ]
  },
  {
   "cell_type": "markdown",
   "metadata": {
    "collapsed": false
   },
   "source": [
    "A questo punto, consideriamo l'identità di Catalan e quella di Cassini con r=1, ottendendo:\n",
    "\n",
    "$R_{n}^2 - R_{n+1}R_{n-1}$ = $\\cfrac{(-1)^{n-1}}{(a^2-5b^2)}\\big[(a+b)R_{1}-2bR_{1+1}\\big]^2$\n",
    "\n",
    "$R_{n}^2 - R_{n+1}R_{n-1}$ = $(-1)^{n-1}(a^2-5b^2)$\n",
    "\n",
    "Effettuiamo una verifica numerica.\n"
   ]
  },
  {
   "cell_type": "code",
   "execution_count": 25,
   "metadata": {
    "collapsed": false
   },
   "outputs": [
    {
     "data": {
      "image/png": "[encoded data removed]",
      "text/latex": [
       "$$\\left [ \\left ( 0, \\quad 0\\right ), \\quad \\left ( 1, \\quad 0\\right ), \\quad \\left ( 2, \\quad 0\\right ), \\quad \\left ( 3, \\quad 0\\right ), \\quad \\left ( 4, \\quad 0\\right ), \\quad \\left ( 5, \\quad 0\\right ), \\quad \\left ( 6, \\quad 0\\right ), \\quad \\left ( 7, \\quad 0\\right ), \\quad \\left ( 8, \\quad 0\\right ), \\quad \\left ( 9, \\quad 0\\right )\\right ]$$"
      ],
      "text/plain": [
       "[(0, 0), (1, 0), (2, 0), (3, 0), (4, 0), (5, 0), (6, 0), (7, 0), (8, 0), (9, 0\n",
       ")]"
      ]
     },
     "execution_count": 25,
     "metadata": {},
     "output_type": "execute_result"
    }
   ],
   "source": [
    "n = symbols('n', integer = True)\n",
    "a = symbols('a', integer = True)\n",
    "b = symbols('b', integer = True)\n",
    "\n",
    "expr14 = Pow((-1),n-1)/(Pow(a,2)- 5*Pow(b,2))*Pow((a+b)*R(1, a, b)-2*b*R(2, a, b),2)\n",
    "val_expr14 = Lambda([n, a, b], simplify(expr14))\n",
    "\n",
    "expr15 = Pow((-1),n-1)*(Pow(a,2) - 5*Pow(b,2))\n",
    "val_expr15 = Lambda([n, a, b], simplify(expr15))\n",
    "\n",
    "\n",
    "a=random.randrange(1,5)\n",
    "b=random.randrange(1,5)\n",
    "\n",
    "[(n, (val_expr14(n, a, b).evalf(chop=True)-val_expr15(n, a, b).evalf(chop=True))) for n in range(0,10)]"
   ]
  },
  {
   "cell_type": "markdown",
   "metadata": {
    "collapsed": true
   },
   "source": [
    "Per tale ragione, abbiamo verificato che\n",
    "\n",
    "$\\cfrac{(-1)^{n-1}}{(a^2-5b^2)}\\big[(a+b)R_{1}-2bR_{2}\\big]^2$ = $(-1)^{n-1}(a^2-5b^2)$"
   ]
  },
  {
   "cell_type": "markdown",
   "metadata": {},
   "source": [
    "$\\textbf{Corollario 3.11 (Identità di D'Ocagne)}$\n",
    "\n",
    "Sia $R_{n}$ il termine n-esimo della sequenza di Fibonacci generalizzata. Allora\n",
    "\n",
    "$R_{m}R_{n+1} - R_{m+1}R_{n}$ = $(-1)^{n}(a+b)R_{m-n}-2R_{m-n+1}$ con $m> n\\ge 0$"
   ]
  },
  {
   "cell_type": "code",
   "execution_count": 26,
   "metadata": {
    "collapsed": false
   },
   "outputs": [
    {
     "data": {
      "image/png": "[encoded data removed]",
      "text/latex": [
       "$$\\left [ \\left ( 0, \\quad 0\\right ), \\quad \\left ( 1, \\quad 0\\right ), \\quad \\left ( 2, \\quad 0\\right ), \\quad \\left ( 3, \\quad 0\\right ), \\quad \\left ( 4, \\quad 0\\right ), \\quad \\left ( 5, \\quad 0\\right ), \\quad \\left ( 6, \\quad 0\\right ), \\quad \\left ( 7, \\quad 0\\right ), \\quad \\left ( 8, \\quad 0\\right ), \\quad \\left ( 9, \\quad 0\\right )\\right ]$$"
      ],
      "text/plain": [
       "[(0, 0), (1, 0), (2, 0), (3, 0), (4, 0), (5, 0), (6, 0), (7, 0), (8, 0), (9, 0\n",
       ")]"
      ]
     },
     "execution_count": 26,
     "metadata": {},
     "output_type": "execute_result"
    }
   ],
   "source": [
    "n = symbols('n', integer = True)\n",
    "a = symbols('a', integer = True)\n",
    "b = symbols('b', integer = True)\n",
    "m = symbols('m', integer = True)\n",
    "\n",
    "expr25 = R(m, a, b)*R(n+1, a, b) - R(m+1, a, b)*R(n, a, b)\n",
    "val_expr25 = Lambda([n, a, b, m], simplify(expr25))\n",
    "\n",
    "expr26 = Pow((-1),n)*((a+b)*R(m-n, a, b) - 2*b*R(m-n+1, a, b))\n",
    "val_expr26 = Lambda([n, a, b, m], simplify(expr26))\n",
    "\n",
    "\n",
    "a=random.randrange(1,5)\n",
    "b=random.randrange(1,5)\n",
    "\n",
    "lst=[]\n",
    "for n in range(0,10):\n",
    "    m=random.randrange(n+1,20)\n",
    "    lst.append((n, val_expr25(n, a, b, m).evalf(chop=True)-val_expr26(n, a, b, m).evalf(chop=True)))\n",
    "\n",
    "lst"
   ]
  },
  {
   "cell_type": "markdown",
   "metadata": {},
   "source": [
    "$\\textbf{Corollario 3.11 (Identità generalizzata)}$\n",
    "\n",
    "Sia $R_{n}$ il termine n-esimo della sequenza di Fibonacci generalizzata. Allora\n",
    "\n",
    "$R_{m}R_{n} - R_{m-r}R_{n+r}$ = $\\cfrac{(-1)^{m-r}}{a^2-5b^2}\\big( (a+b)R_r- 2bR_{r+1})\\big)\\big((a+b)R_{n-m+r} - 2bR_{n-m+r+1}\\big)$ con $n> m \\ge r \\ge 1$"
   ]
  },
  {
   "cell_type": "code",
   "execution_count": 27,
   "metadata": {
    "collapsed": false
   },
   "outputs": [
    {
     "data": {
      "image/png": "[encoded data removed]",
      "text/latex": [
       "$$\\left [ \\left ( 5, \\quad 0\\right ), \\quad \\left ( 6, \\quad 0\\right ), \\quad \\left ( 7, \\quad 0\\right ), \\quad \\left ( 8, \\quad 0\\right ), \\quad \\left ( 9, \\quad 0\\right ), \\quad \\left ( 10, \\quad 0\\right ), \\quad \\left ( 11, \\quad 0\\right ), \\quad \\left ( 12, \\quad 0\\right ), \\quad \\left ( 13, \\quad 0\\right ), \\quad \\left ( 14, \\quad 0\\right )\\right ]$$"
      ],
      "text/plain": [
       "[(5, 0), (6, 0), (7, 0), (8, 0), (9, 0), (10, 0), (11, 0), (12, 0), (13, 0), (\n",
       "14, 0)]"
      ]
     },
     "execution_count": 27,
     "metadata": {},
     "output_type": "execute_result"
    }
   ],
   "source": [
    "n = symbols('n', integer = True)\n",
    "a = symbols('a', integer = True)\n",
    "b = symbols('b', integer = True)\n",
    "m = symbols('m', integer = True)\n",
    "r = symbols('r', integer = True)\n",
    "\n",
    "expr27 = R(m, a, b)*R(n, a, b) - R(m-r, a, b)*R(n+r, a, b)\n",
    "val_expr27 = Lambda([n, a, b, m, r], simplify(expr27))\n",
    "\n",
    "\n",
    "expr28 = Pow((-1),m-r)/(Pow(a,2)-5*Pow(b,2))*((a+b)*R(r, a, b) - 2*b*R(r+1, a, b))*((a+b)*R(n-m+r, a, b) - 2*b*R(n-m+r+1, a, b))\n",
    "val_expr28 = Lambda([n, a, b, m, r], simplify(expr28))\n",
    "\n",
    "\n",
    "a=random.randrange(1,5)\n",
    "b=random.randrange(1,5)\n",
    "\n",
    "lst=[]\n",
    "for n in range(5,15):\n",
    "    r=random.randrange(1,4)\n",
    "    m=random.randrange(3,n)\n",
    "    lst.append((n, val_expr27(n, a, b, m, r).evalf(chop=True)-val_expr28(n, a, b, m, r).evalf(chop=True)))\n",
    "\n",
    "lst\n"
   ]
  },
  {
   "cell_type": "markdown",
   "metadata": {},
   "source": [
    "Da questo momento, sono state verificate alcune formule che legano le sequenze di Fibonacci, di Lucas e quella di Fibonacci generalizzata."
   ]
  },
  {
   "cell_type": "markdown",
   "metadata": {},
   "source": [
    "$\\textbf{Teorema 4.1}$\n",
    "\n",
    "Per ogni intero positivo n\n",
    "\n",
    "$R_{n+1} + R_{n-1}$ = $(a+b)L_n + 2bL_{n-1}$ con $n \\geq 1$"
   ]
  },
  {
   "cell_type": "code",
   "execution_count": 28,
   "metadata": {
    "collapsed": false
   },
   "outputs": [
    {
     "data": {
      "image/png": "[encoded data removed]",
      "text/latex": [
       "$$\\left [ \\left ( 0, \\quad 0\\right ), \\quad \\left ( 1, \\quad 0\\right ), \\quad \\left ( 2, \\quad 0\\right ), \\quad \\left ( 3, \\quad 0\\right ), \\quad \\left ( 4, \\quad 0\\right ), \\quad \\left ( 5, \\quad 0\\right ), \\quad \\left ( 6, \\quad 0\\right ), \\quad \\left ( 7, \\quad 0\\right ), \\quad \\left ( 8, \\quad 0\\right ), \\quad \\left ( 9, \\quad 0\\right )\\right ]$$"
      ],
      "text/plain": [
       "[(0, 0), (1, 0), (2, 0), (3, 0), (4, 0), (5, 0), (6, 0), (7, 0), (8, 0), (9, 0\n",
       ")]"
      ]
     },
     "execution_count": 28,
     "metadata": {},
     "output_type": "execute_result"
    }
   ],
   "source": [
    "n = symbols('n', integer = True)\n",
    "a = symbols('a', integer = True)\n",
    "b = symbols('b', integer = True)\n",
    "\n",
    "expr29 = R(n+1, a, b) + R(n-1, a, b) \n",
    "val_expr29 = Lambda([n, a, b], simplify(expr29))\n",
    "\n",
    "expr30 = (a+b)*L(n) + 2*b*L(n-1)\n",
    "val_expr30 = Lambda([n, a, b], simplify(expr30))\n",
    "\n",
    "a=random.randrange(1,5)\n",
    "b=random.randrange(1,5)\n",
    "\n",
    "[(n, (val_expr29(n, a, b).evalf(chop=True)-val_expr30(n, a, b).evalf(chop=True))) for n in range(0,10)]"
   ]
  },
  {
   "cell_type": "markdown",
   "metadata": {},
   "source": [
    "$\\textbf{Teorema 4.2}$\n",
    "\n",
    "Per ogni intero positivo n\n",
    "\n",
    "$R_{n+1} - R_{n-1}$ = $(a+b)F_n + 2bF_{n-1}$ con $n \\geq 1$"
   ]
  },
  {
   "cell_type": "code",
   "execution_count": 29,
   "metadata": {
    "collapsed": false
   },
   "outputs": [
    {
     "data": {
      "image/png": "[encoded data removed]",
      "text/latex": [
       "$$\\left [ \\left ( 0, \\quad 0\\right ), \\quad \\left ( 1, \\quad 0\\right ), \\quad \\left ( 2, \\quad 0\\right ), \\quad \\left ( 3, \\quad 0\\right ), \\quad \\left ( 4, \\quad 0\\right ), \\quad \\left ( 5, \\quad 0\\right ), \\quad \\left ( 6, \\quad 0\\right ), \\quad \\left ( 7, \\quad 0\\right ), \\quad \\left ( 8, \\quad 0\\right ), \\quad \\left ( 9, \\quad 0\\right )\\right ]$$"
      ],
      "text/plain": [
       "[(0, 0), (1, 0), (2, 0), (3, 0), (4, 0), (5, 0), (6, 0), (7, 0), (8, 0), (9, 0\n",
       ")]"
      ]
     },
     "execution_count": 29,
     "metadata": {},
     "output_type": "execute_result"
    }
   ],
   "source": [
    "n = symbols('n', integer = True)\n",
    "a = symbols('a', integer = True)\n",
    "b = symbols('b', integer = True)\n",
    "\n",
    "expr31 = R(n+1, a, b) - R(n-1, a, b) \n",
    "val_expr31 = Lambda([n, a, b], simplify(expr31))\n",
    "\n",
    "expr32 = (a+b)*F(n) + 2*b*F(n-1)\n",
    "val_expr32 = Lambda([n, a, b], simplify(expr32))\n",
    "\n",
    "a=random.randrange(1,5)\n",
    "b=random.randrange(1,5)\n",
    "\n",
    "[(n, (val_expr31(n, a, b).evalf(chop=True)-val_expr32(n, a, b).evalf(chop=True))) for n in range(0,10)]"
   ]
  },
  {
   "cell_type": "markdown",
   "metadata": {},
   "source": [
    "$\\textbf{Teorema 4.3}$\n",
    "\n",
    "Per ogni intero positivo n\n",
    "\n",
    "$R_{n+1}$ = $aF_{n+1} + bL_{n+1}$ "
   ]
  },
  {
   "cell_type": "code",
   "execution_count": 30,
   "metadata": {
    "collapsed": false
   },
   "outputs": [
    {
     "data": {
      "image/png": "[encoded data removed]",
      "text/latex": [
       "$$\\left [ \\left ( 0, \\quad 0\\right ), \\quad \\left ( 1, \\quad 0\\right ), \\quad \\left ( 2, \\quad 0\\right ), \\quad \\left ( 3, \\quad 0\\right ), \\quad \\left ( 4, \\quad 0\\right ), \\quad \\left ( 5, \\quad 0\\right ), \\quad \\left ( 6, \\quad 0\\right ), \\quad \\left ( 7, \\quad 0\\right ), \\quad \\left ( 8, \\quad 0\\right ), \\quad \\left ( 9, \\quad 0\\right )\\right ]$$"
      ],
      "text/plain": [
       "[(0, 0), (1, 0), (2, 0), (3, 0), (4, 0), (5, 0), (6, 0), (7, 0), (8, 0), (9, 0\n",
       ")]"
      ]
     },
     "execution_count": 30,
     "metadata": {},
     "output_type": "execute_result"
    }
   ],
   "source": [
    "n = symbols('n', integer = True)\n",
    "a = symbols('a', integer = True)\n",
    "b = symbols('b', integer = True)\n",
    "\n",
    "expr33 = R(n+1, a, b) \n",
    "val_expr33 = Lambda([n, a, b], simplify(expr33))\n",
    "\n",
    "expr34 = a*F(n+1) + b*L(n+1)\n",
    "val_expr34 = Lambda([n, a, b], simplify(expr34))\n",
    "\n",
    "a=random.randrange(1,5)\n",
    "b=random.randrange(1,5)\n",
    "\n",
    "[(n, (val_expr33(n, a, b).evalf(chop=True)-val_expr34(n, a, b).evalf(chop=True))) for n in range(0,10)]"
   ]
  },
  {
   "cell_type": "markdown",
   "metadata": {},
   "source": [
    "$\\textbf{Teorema 4.4}$\n",
    "\n",
    "Per ogni intero positivo n\n",
    "\n",
    "$R_{2n}$ = $aF_{2n} + bL_{2n}$"
   ]
  },
  {
   "cell_type": "code",
   "execution_count": 31,
   "metadata": {
    "collapsed": false
   },
   "outputs": [
    {
     "data": {
      "image/png": "[encoded data removed]",
      "text/latex": [
       "$$\\left [ \\left ( 0, \\quad 0\\right ), \\quad \\left ( 1, \\quad 0\\right ), \\quad \\left ( 2, \\quad 0\\right ), \\quad \\left ( 3, \\quad 0\\right ), \\quad \\left ( 4, \\quad 0\\right ), \\quad \\left ( 5, \\quad 0\\right ), \\quad \\left ( 6, \\quad 0\\right ), \\quad \\left ( 7, \\quad 0\\right ), \\quad \\left ( 8, \\quad 0\\right ), \\quad \\left ( 9, \\quad 0\\right )\\right ]$$"
      ],
      "text/plain": [
       "[(0, 0), (1, 0), (2, 0), (3, 0), (4, 0), (5, 0), (6, 0), (7, 0), (8, 0), (9, 0\n",
       ")]"
      ]
     },
     "execution_count": 31,
     "metadata": {},
     "output_type": "execute_result"
    }
   ],
   "source": [
    "n = symbols('n', integer = True)\n",
    "a = symbols('a', integer = True)\n",
    "b = symbols('b', integer = True)\n",
    "\n",
    "expr35 = R(2*n, a, b) \n",
    "val_expr35 = Lambda([n, a, b], simplify(expr35))\n",
    "\n",
    "expr36 = a*F(2*n) + b*L(2*n)\n",
    "val_expr36 = Lambda([n, a, b], simplify(expr36))\n",
    "\n",
    "a=random.randrange(1,5)\n",
    "b=random.randrange(1,5)\n",
    "\n",
    "[(n, (val_expr35(n, a, b).evalf(chop=True)-val_expr36(n, a, b).evalf(chop=True))) for n in range(0,10)]"
   ]
  },
  {
   "cell_type": "markdown",
   "metadata": {},
   "source": [
    "Nella sezione sottostante, sono state verificate alcune relazioni riguardo il determinante di matrici. Quest'ultime hanno come elementi i termini delle successioni di Fibonacci, di Lucas o di quella di Fibonacci generalizzata."
   ]
  },
  {
   "cell_type": "markdown",
   "metadata": {},
   "source": [
    "$\\textbf{Teorema 5.1}$\n",
    "\n",
    "Sia n un intero positivo, allora\n",
    "\n",
    "$\\begin{eqnarray}\n",
    "\\begin{vmatrix}\n",
    "R_{n} & F_{n} & 1 \\\\ \n",
    "R_{n+1} & F_{n+1} & 1 \\\\ \n",
    "R_{n+2} & F_{n+2} & 1 \n",
    "\\end{vmatrix}\n",
    "= \n",
    "[F_{n}R_{n+1}+F_{n-1}R_{n}]\n",
    "\\end{eqnarray}$\n"
   ]
  },
  {
   "cell_type": "code",
   "execution_count": 32,
   "metadata": {
    "collapsed": false
   },
   "outputs": [
    {
     "data": {
      "image/png": "[encoded data removed]",
      "text/latex": [
       "$$\\left [ \\left ( 0, \\quad 0\\right ), \\quad \\left ( 1, \\quad 0\\right ), \\quad \\left ( 2, \\quad 0\\right ), \\quad \\left ( 3, \\quad 0\\right ), \\quad \\left ( 4, \\quad 0\\right ), \\quad \\left ( 5, \\quad 0\\right ), \\quad \\left ( 6, \\quad 0\\right ), \\quad \\left ( 7, \\quad 0\\right ), \\quad \\left ( 8, \\quad 0\\right ), \\quad \\left ( 9, \\quad 0\\right )\\right ]$$"
      ],
      "text/plain": [
       "[(0, 0), (1, 0), (2, 0), (3, 0), (4, 0), (5, 0), (6, 0), (7, 0), (8, 0), (9, 0\n",
       ")]"
      ]
     },
     "execution_count": 32,
     "metadata": {},
     "output_type": "execute_result"
    }
   ],
   "source": [
    "n = symbols('n', integer = True)\n",
    "a = symbols('a', integer = True)\n",
    "b = symbols('b', integer = True)\n",
    "\n",
    "expr16 = Matrix([[R(n, a, b),F(n),1],[R(n+1, a, b),F(n+1),1],[R(n+2, a, b),F(n+2),1]]).det()\n",
    "val_expr16 = Lambda([n, a, b], simplify(expr16))\n",
    "\n",
    "expr17 = F(n)*R(n+1, a, b)- F(n+1)*R(n, a, b)\n",
    "val_expr17 = Lambda([n, a, b], simplify(expr17))\n",
    "\n",
    "a=random.randrange(1,5)\n",
    "b=random.randrange(1,5)\n",
    "\n",
    "[(n, (val_expr16(n, a, b).evalf(chop=True)-val_expr17(n, a, b).evalf(chop=True))) for n in range(0,10)]"
   ]
  },
  {
   "cell_type": "markdown",
   "metadata": {},
   "source": [
    "$\\textbf{Teorema 5.2}$\n",
    "\n",
    "Sia n un intero positivo, allora\n",
    "\n",
    "$\\begin{eqnarray*}\n",
    "\\begin{vmatrix}\n",
    "R_{n} & L_{n} & 1 \\\\ \n",
    "R_{n+1} & L_{n+1} & 1 \\\\ \n",
    "R_{n+2} & L_{n+2} & 1 \n",
    "\\end{vmatrix}\n",
    "= \n",
    "[L_{n}R_{n+1}+L_{n-1}R_{n}]\n",
    "\\end{eqnarray*}$"
   ]
  },
  {
   "cell_type": "code",
   "execution_count": 33,
   "metadata": {
    "collapsed": false
   },
   "outputs": [
    {
     "data": {
      "image/png": "[encoded data removed]",
      "text/latex": [
       "$$\\left [ \\left ( 0, \\quad 0\\right ), \\quad \\left ( 1, \\quad 0\\right ), \\quad \\left ( 2, \\quad 0\\right ), \\quad \\left ( 3, \\quad 0\\right ), \\quad \\left ( 4, \\quad 0\\right ), \\quad \\left ( 5, \\quad 0\\right ), \\quad \\left ( 6, \\quad 0\\right ), \\quad \\left ( 7, \\quad 0\\right ), \\quad \\left ( 8, \\quad 0\\right ), \\quad \\left ( 9, \\quad 0\\right )\\right ]$$"
      ],
      "text/plain": [
       "[(0, 0), (1, 0), (2, 0), (3, 0), (4, 0), (5, 0), (6, 0), (7, 0), (8, 0), (9, 0\n",
       ")]"
      ]
     },
     "execution_count": 33,
     "metadata": {},
     "output_type": "execute_result"
    }
   ],
   "source": [
    "n = symbols('n', integer = True)\n",
    "a = symbols('a', integer = True)\n",
    "b = symbols('b', integer = True)\n",
    "\n",
    "expr20 = Matrix([[R(n, a, b),L(n),1],[R(n+1, a, b),L(n+1),1],[R(n+2, a, b),L(n+2),1]]).det()\n",
    "val_expr20 = Lambda([n, a, b], simplify(expr20))\n",
    "\n",
    "expr21 = L(n)*R(n+1, a, b)- L(n+1)*R(n, a, b)\n",
    "val_expr21 = Lambda([n, a, b], simplify(expr21))\n",
    "\n",
    "a=random.randrange(1,5)\n",
    "b=random.randrange(1,5)\n",
    "\n",
    "[(n, (val_expr20(n, a, b).evalf(chop=True)-val_expr21(n, a, b).evalf(chop=True))) for n in range(0,10)]"
   ]
  },
  {
   "cell_type": "markdown",
   "metadata": {},
   "source": [
    "$\\textbf{Teorema 5.3}$\n",
    "\n",
    "Sia ogni intero positivo n, allora\n",
    "\n",
    "\\begin{gather}\n",
    "\\begin{vmatrix}\n",
    "R_{n+1} & R_{n+2} & R_{n+3} \\\\ \n",
    "R_{n+4} & R_{n+5} & R_{n+6} \\\\ \n",
    "R_{n+7} & R_{n+8} & R_{n+9} \n",
    "\\end{vmatrix}\n",
    "\n",
    "= \n",
    "0\n",
    "\\end{gather}"
   ]
  },
  {
   "cell_type": "code",
   "execution_count": 34,
   "metadata": {
    "collapsed": false
   },
   "outputs": [
    {
     "data": {
      "image/png": "[encoded data removed]",
      "text/latex": [
       "$$\\left [ \\left ( 0, \\quad 0\\right ), \\quad \\left ( 1, \\quad 0\\right ), \\quad \\left ( 2, \\quad 0\\right ), \\quad \\left ( 3, \\quad 0\\right ), \\quad \\left ( 4, \\quad 0\\right ), \\quad \\left ( 5, \\quad 0\\right ), \\quad \\left ( 6, \\quad 0\\right )\\right ]$$"
      ],
      "text/plain": [
       "[(0, 0), (1, 0), (2, 0), (3, 0), (4, 0), (5, 0), (6, 0)]"
      ]
     },
     "execution_count": 34,
     "metadata": {},
     "output_type": "execute_result"
    }
   ],
   "source": [
    "n = symbols('n', integer = True)\n",
    "a = symbols('a', integer = True)\n",
    "b = symbols('b', integer = True)\n",
    "\n",
    "expr18 = Matrix([[R(n+1, a, b),R(n+2, a, b),R(n+3, a, b)],[R(n+4, a, b),R(n+5, a, b),\n",
    "              R(n+6, a, b)],[R(n+7, a, b),R(n+8, a, b),R(n+9, a, b)]]).det()\n",
    "val_expr18 = Lambda([n, a, b], simplify(expr18))\n",
    "\n",
    "a=random.randrange(1,5)\n",
    "b=random.randrange(1,5)\n",
    "\n",
    "[(n, (val_expr18(n, a, b).evalf(chop=True))) for n in range(0,7)]"
   ]
  },
  {
   "cell_type": "markdown",
   "metadata": {},
   "source": [
    "$\\textbf{Teorema 5.5}$\n",
    "\n",
    "Sia ogni intero positivo n, allora\n",
    "\n",
    "$\\begin{eqnarray*}\n",
    "\\begin{vmatrix}\n",
    "R_n+R_{n+1} & R_{n+1}+R_{n+2} & R_{n+2}+R_{n} \\\\ \n",
    "R_{n+2} & R_{n} & R_{n+1} \\\\ \n",
    "1 & 1 & 1 \n",
    "\\end{vmatrix}\n",
    "= \n",
    "0\n",
    "\\end{eqnarray*}$"
   ]
  },
  {
   "cell_type": "code",
   "execution_count": 35,
   "metadata": {
    "collapsed": false
   },
   "outputs": [
    {
     "data": {
      "image/png": "[encoded data removed]",
      "text/latex": [
       "$$\\left [ \\left ( 0, \\quad 0\\right ), \\quad \\left ( 1, \\quad 0\\right ), \\quad \\left ( 2, \\quad 0\\right ), \\quad \\left ( 3, \\quad 0\\right ), \\quad \\left ( 4, \\quad 0\\right ), \\quad \\left ( 5, \\quad 0\\right ), \\quad \\left ( 6, \\quad 0\\right ), \\quad \\left ( 7, \\quad 0\\right )\\right ]$$"
      ],
      "text/plain": [
       "[(0, 0), (1, 0), (2, 0), (3, 0), (4, 0), (5, 0), (6, 0), (7, 0)]"
      ]
     },
     "execution_count": 35,
     "metadata": {},
     "output_type": "execute_result"
    }
   ],
   "source": [
    "n = symbols('n', integer = True)\n",
    "a = symbols('a', integer = True)\n",
    "b = symbols('b', integer = True)\n",
    "\n",
    "expr19 = Matrix([[R(n, a, b)+R(n+1, a, b),R(n+1, a, b)+R(n+2, a, b),R(n+2, a, b)+\n",
    "                       R(n, a, b)],[R(n+2, a, b),R(n, a, b),R(n+1, a, b)],[1,1,1]]).det()\n",
    "\n",
    "val_expr19 = Lambda([n, a, b], simplify(expr19))\n",
    "\n",
    "a=random.randrange(1,5)\n",
    "b=random.randrange(1,5)\n",
    "\n",
    "[(n, (val_expr19(n, a, b).evalf(chop=True))) for n in range(0,8)]"
   ]
  },
  {
   "cell_type": "markdown",
   "metadata": {},
   "source": [
    "$\\textbf{Teorema 5.6}$\n",
    "\n",
    "Sia ogni intero positivo n, allora\n",
    "\n",
    "$\\begin{eqnarray*}\n",
    "\\begin{vmatrix}\n",
    "R_{n}-R_{n+1} & R_{n+1}-R_{n+2} & R_{n+2}-R_{n} \\\\ \n",
    "R_{n+1}-R_{n+2} & R_{n+2}-R_{n} & R_{n}-R_{n+1} \\\\ \n",
    "R_{n+2}-R_{n} & R_{n}-R_{n+1} & R_{n+1}-R_{n+2} \n",
    "\\end{vmatrix}\n",
    "= \n",
    "0\n",
    "\\end{eqnarray*}$"
   ]
  },
  {
   "cell_type": "code",
   "execution_count": 36,
   "metadata": {
    "collapsed": false
   },
   "outputs": [
    {
     "data": {
      "image/png": "[encoded data removed]",
      "text/latex": [
       "$$\\left [ \\left ( 0, \\quad 0\\right ), \\quad \\left ( 1, \\quad 0\\right ), \\quad \\left ( 2, \\quad 0\\right ), \\quad \\left ( 3, \\quad 0\\right ), \\quad \\left ( 4, \\quad 0\\right ), \\quad \\left ( 5, \\quad 0\\right ), \\quad \\left ( 6, \\quad 0\\right ), \\quad \\left ( 7, \\quad 0\\right ), \\quad \\left ( 8, \\quad 0\\right ), \\quad \\left ( 9, \\quad 0\\right )\\right ]$$"
      ],
      "text/plain": [
       "[(0, 0), (1, 0), (2, 0), (3, 0), (4, 0), (5, 0), (6, 0), (7, 0), (8, 0), (9, 0\n",
       ")]"
      ]
     },
     "execution_count": 36,
     "metadata": {},
     "output_type": "execute_result"
    }
   ],
   "source": [
    "n = symbols('n', integer = True)\n",
    "a = symbols('a', integer = True)\n",
    "b = symbols('b', integer = True)\n",
    "\n",
    "expr19 = Matrix([[R(n, a, b)-R(n+1, a, b),R(n+1, a, b)-R(n+2, a, b),R(n+2, a, b)-\n",
    "                       R(n, a, b)],[R(n+1, a, b)-R(n+2, a, b),R(n+2, a, b)-R(n, a, b),R(n, a, b)-R(n+1, a, b)],\n",
    "                      [R(n+2, a, b)-R(n, a, b),R(n, a, b)-R(n+1, a, b),R(n+1, a, b)-R(n+2, a, b)]]).det()\n",
    "\n",
    "val_expr19 = Lambda([n, a, b], simplify(expr19))\n",
    "\n",
    "a=random.randrange(1,5)\n",
    "b=random.randrange(1,5)\n",
    "\n",
    "[(n, (val_expr19(n, a, b).evalf(chop=True))) for n in range(0,10)]"
   ]
  },
  {
   "cell_type": "markdown",
   "metadata": {},
   "source": [
    "$\\textbf{Teorema 5.7}$\n",
    "\n",
    "Sia ogni intero positivo n, allora\n",
    "\n",
    "$\\begin{eqnarray*}\n",
    "\\begin{vmatrix}\n",
    "R_n & R_{n}+R_{n+1} & R_n+R_{n+1}+R_{n+2} \\\\ \n",
    "2R_n & 2R_{n}+3R_{n+1} & 2R_n+3R_{n+1}+4R_{n+2} \\\\ \n",
    "3R_n & 3R_{n}+6R_{n+1} & 3R_n+6R_{n+1}+12R_{n+2}\n",
    "\\end{vmatrix}\n",
    "= \n",
    "3R_nR_{n+1}R_{n+2}\n",
    "\\end{eqnarray*}$"
   ]
  },
  {
   "cell_type": "code",
   "execution_count": 37,
   "metadata": {
    "collapsed": false
   },
   "outputs": [
    {
     "data": {
      "image/png": "[encoded data removed]",
      "text/latex": [
       "$$\\left [ \\left ( 0, \\quad 0\\right ), \\quad \\left ( 1, \\quad 0\\right ), \\quad \\left ( 2, \\quad 0\\right ), \\quad \\left ( 3, \\quad 0\\right ), \\quad \\left ( 4, \\quad 0\\right ), \\quad \\left ( 5, \\quad 0\\right ), \\quad \\left ( 6, \\quad 0\\right ), \\quad \\left ( 7, \\quad 0\\right ), \\quad \\left ( 8, \\quad 0\\right ), \\quad \\left ( 9, \\quad 0\\right )\\right ]$$"
      ],
      "text/plain": [
       "[(0, 0), (1, 0), (2, 0), (3, 0), (4, 0), (5, 0), (6, 0), (7, 0), (8, 0), (9, 0\n",
       ")]"
      ]
     },
     "execution_count": 37,
     "metadata": {},
     "output_type": "execute_result"
    }
   ],
   "source": [
    "n = symbols('n', integer = True)\n",
    "a = symbols('a', integer = True)\n",
    "b = symbols('b', integer = True)\n",
    "\n",
    "expr19 = Matrix([[R(n, a, b),R(n, a, b)+R(n+1, a, b),R(n, a, b)+R(n+1, a, b)+\n",
    "                       R(n+2, a, b)],[2*R(n, a, b),2*R(n, a, b)+3*R(n+1, a, b),2*R(n, a, b)+3*R(n+1, a, b)+\n",
    "                       4*R(n+2, a, b)],[3*R(n, a, b),3*R(n, a, b)+6*R(n+1, a, b),3*R(n, a, b)+6*R(n+1, a, b)+\n",
    "                       12*R(n+2, a, b)]]).det()\n",
    "\n",
    "val_expr19 = Lambda([n, a, b], simplify(expr19))\n",
    "\n",
    "expr20 = 3*R(n, a, b)*R(n+1, a, b)*R(n+2, a, b)\n",
    "val_expr20 = Lambda([n, a, b], simplify(expr20))\n",
    "\n",
    "a=random.randrange(1,5)\n",
    "b=random.randrange(1,5)\n",
    "\n",
    "[(n, (val_expr19(n, a, b).evalf(chop=True)-val_expr20(n, a, b).evalf(chop=True))) for n in range(0,10)]"
   ]
  },
  {
   "cell_type": "markdown",
   "metadata": {},
   "source": [
    "$\\textbf{Teorema 5.8}$\n",
    "\n",
    "Sia ogni intero positivo n, allora\n",
    "\n",
    "$\\begin{eqnarray*}\n",
    "\\begin{vmatrix}\n",
    "0 & R_{n}R_{n+1}^2 & R_nR_{n+2}^2 \\\\ \n",
    "R_n^2R_{n+1} & 0 & R_{n+1}R_{n+2} \\\\ \n",
    "R_n^2R_{n+2} & R_{n+2}R_{n+1}^2 & 0\n",
    "\\end{vmatrix}\n",
    "= \n",
    "2R_n^3R_{n+1}^3R_{n+2}^3\n",
    "\\end{eqnarray*}$"
   ]
  },
  {
   "cell_type": "code",
   "execution_count": 38,
   "metadata": {
    "collapsed": false
   },
   "outputs": [
    {
     "data": {
      "image/png": "[encoded data removed]",
      "text/latex": [
       "$$\\left [ \\left ( 0, \\quad 0\\right ), \\quad \\left ( 1, \\quad 0\\right ), \\quad \\left ( 2, \\quad 0\\right ), \\quad \\left ( 3, \\quad 0\\right ), \\quad \\left ( 4, \\quad 0\\right ), \\quad \\left ( 5, \\quad 0\\right ), \\quad \\left ( 6, \\quad 0\\right ), \\quad \\left ( 7, \\quad 0\\right ), \\quad \\left ( 8, \\quad 0\\right ), \\quad \\left ( 9, \\quad 0\\right )\\right ]$$"
      ],
      "text/plain": [
       "[(0, 0), (1, 0), (2, 0), (3, 0), (4, 0), (5, 0), (6, 0), (7, 0), (8, 0), (9, 0\n",
       ")]"
      ]
     },
     "execution_count": 38,
     "metadata": {},
     "output_type": "execute_result"
    }
   ],
   "source": [
    "n = symbols('n', integer = True)\n",
    "a = symbols('a', integer = True)\n",
    "b = symbols('b', integer = True)\n",
    "\n",
    "expr21 = Matrix([[0,R(n, a, b)*Pow(R(n+1, a, b),2),R(n, a, b)*Pow(R(n+2, a, b),2)],[Pow(R(n, a, b),2)*R(n+1, a, b),0,\n",
    "                       R(n+1, a, b)*Pow(R(n+2, a, b),2)],[Pow(R(n, a, b),2)*R(n+2, a, b),R(n+2, a, b)*Pow(R(n+1, a, b),2),0]]).det()\n",
    "\n",
    "val_expr21 = Lambda([n, a, b], simplify(expr21))\n",
    "\n",
    "expr22 = 2*Pow(R(n, a, b),3)*Pow(R(n+1, a, b),3)*Pow(R(n+2, a, b),3)\n",
    "val_expr22 = Lambda([n, a, b], simplify(expr22))\n",
    "\n",
    "a=random.randrange(1,5)\n",
    "b=random.randrange(1,5)\n",
    "\n",
    "[(n, (val_expr21(n, a, b).evalf(chop=True)-val_expr22(n, a, b).evalf(chop=True))) for n in range(0,10)]"
   ]
  },
  {
   "cell_type": "code",
   "execution_count": null,
   "metadata": {
    "collapsed": true
   },
   "outputs": [],
   "source": []
  }
 ],
 "metadata": {
  "kernelspec": {
   "display_name": "Python 3",
   "language": "python",
   "name": "python3"
  },
  "language_info": {
   "codemirror_mode": {
    "name": "ipython",
    "version": 3
   },
   "file_extension": ".py",
   "mimetype": "text/x-python",
   "name": "python",
   "nbconvert_exporter": "python",
   "pygments_lexer": "ipython3",
   "version": "3.6.0"
  }
 },
 "nbformat": 4,
 "nbformat_minor": 2
}
